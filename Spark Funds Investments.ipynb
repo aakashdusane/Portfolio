{
 "cells": [
  {
   "cell_type": "markdown",
   "metadata": {},
   "source": [
    "# Scenario"
   ]
  },
  {
   "cell_type": "markdown",
   "metadata": {},
   "source": [
    "Spark Funds is an asset management company. It wants to make investments in a few companies. The CEO of Spark Funds wants to understand the global trends in investments so that she can take the investment decisions effectively.\n",
    "\n",
    "__Spark Funds has few minor constraints for investments:__\n",
    "\n",
    "It wants to invest between 5 to 15 million USD per round of investment\n",
    "\n",
    "It wants to invest only in English-speaking countries because of the ease of communication with the companies it would invest in.\n",
    "\n",
    "It wants to choose one investment type from the 4 major types (Seed, Angel, Venture, Private Equity) for each potential investment they make. \n",
    "\n",
    "__What is the strategy?__\n",
    "\n",
    "Spark Funds wants to invest where most other investors are investing. This pattern is often observed among early stage startup investors.\n",
    "\n",
    "__Where did we get the data from?__\n",
    "\n",
    "We have taken real investment data from crunchbase.com.\n",
    "\n",
    "__Datasets:__\n",
    "\n",
    "    Name: companies.csv\n",
    "    Desc: A table with basic data of companies (Company details)\n",
    "\n",
    "    Name: rounds2.csv\n",
    "    Desc: Contains details about companies funding per round.\n",
    "\n",
    "    Name: mapping.csv\n",
    "    Desc: This file maps the numerous category names in the companies table (such 3D printing, aerospace, agriculture, etc.) to eight broad sector names. The purpose is to simplify the analysis into eight sector buckets, rather than trying to              analyse hundreds of them."
   ]
  },
  {
   "cell_type": "markdown",
   "metadata": {},
   "source": [
    "## Business objective"
   ]
  },
  {
   "cell_type": "markdown",
   "metadata": {},
   "source": [
    "The objective is to identify the best sectors, countries, and a suitable investment type for making investments. The overall strategy is to invest where others are investing, implying that the 'best' sectors and countries are the ones 'where most investors are investing'."
   ]
  },
  {
   "cell_type": "markdown",
   "metadata": {},
   "source": [
    "### Importing Relevant Packages"
   ]
  },
  {
   "cell_type": "code",
   "execution_count": 47,
   "metadata": {},
   "outputs": [],
   "source": [
    "import pandas as pd\n",
    "import numpy as np\n",
    "\n",
    "import matplotlib.pyplot as plt\n",
    "import seaborn as sns\n",
    "\n",
    "pd.options.mode.chained_assignment = None  # default='warn'"
   ]
  },
  {
   "cell_type": "markdown",
   "metadata": {},
   "source": [
    "### Importing datasets"
   ]
  },
  {
   "cell_type": "markdown",
   "metadata": {},
   "source": [
    "On observation we see that file is encoded using multiple encoding types (maybe because the ‘company_permalink’ column contains names of companies in various countries, and hence various languages)."
   ]
  },
  {
   "cell_type": "code",
   "execution_count": 2,
   "metadata": {},
   "outputs": [],
   "source": [
    "# encoding specified to get rid of encoding issues for specific rows\n",
    "companies = pd.read_csv(\"\\\\companies.txt\", sep='\\t', encoding=\"ISO-8859-1\")\n",
    "rounds2 = pd.read_csv(\"\\\\rounds2.csv\", encoding=\"ISO-8859-1\")\n",
    "sect_map = pd.read_csv(\"\\\\mapping.csv\")"
   ]
  },
  {
   "cell_type": "code",
   "execution_count": 3,
   "metadata": {},
   "outputs": [
    {
     "data": {
      "text/html": [
       "<div>\n",
       "<style scoped>\n",
       "    .dataframe tbody tr th:only-of-type {\n",
       "        vertical-align: middle;\n",
       "    }\n",
       "\n",
       "    .dataframe tbody tr th {\n",
       "        vertical-align: top;\n",
       "    }\n",
       "\n",
       "    .dataframe thead th {\n",
       "        text-align: right;\n",
       "    }\n",
       "</style>\n",
       "<table border=\"1\" class=\"dataframe\">\n",
       "  <thead>\n",
       "    <tr style=\"text-align: right;\">\n",
       "      <th></th>\n",
       "      <th>permalink</th>\n",
       "      <th>name</th>\n",
       "      <th>homepage_url</th>\n",
       "      <th>category_list</th>\n",
       "      <th>status</th>\n",
       "      <th>country_code</th>\n",
       "      <th>state_code</th>\n",
       "      <th>region</th>\n",
       "      <th>city</th>\n",
       "      <th>founded_at</th>\n",
       "    </tr>\n",
       "  </thead>\n",
       "  <tbody>\n",
       "    <tr>\n",
       "      <th>0</th>\n",
       "      <td>/Organization/-Fame</td>\n",
       "      <td>#fame</td>\n",
       "      <td>http://livfame.com</td>\n",
       "      <td>Media</td>\n",
       "      <td>operating</td>\n",
       "      <td>IND</td>\n",
       "      <td>16</td>\n",
       "      <td>Mumbai</td>\n",
       "      <td>Mumbai</td>\n",
       "      <td>NaN</td>\n",
       "    </tr>\n",
       "    <tr>\n",
       "      <th>1</th>\n",
       "      <td>/Organization/-Qounter</td>\n",
       "      <td>:Qounter</td>\n",
       "      <td>http://www.qounter.com</td>\n",
       "      <td>Application Platforms|Real Time|Social Network...</td>\n",
       "      <td>operating</td>\n",
       "      <td>USA</td>\n",
       "      <td>DE</td>\n",
       "      <td>DE - Other</td>\n",
       "      <td>Delaware City</td>\n",
       "      <td>04-09-2014</td>\n",
       "    </tr>\n",
       "    <tr>\n",
       "      <th>2</th>\n",
       "      <td>/Organization/-The-One-Of-Them-Inc-</td>\n",
       "      <td>(THE) ONE of THEM,Inc.</td>\n",
       "      <td>http://oneofthem.jp</td>\n",
       "      <td>Apps|Games|Mobile</td>\n",
       "      <td>operating</td>\n",
       "      <td>NaN</td>\n",
       "      <td>NaN</td>\n",
       "      <td>NaN</td>\n",
       "      <td>NaN</td>\n",
       "      <td>NaN</td>\n",
       "    </tr>\n",
       "    <tr>\n",
       "      <th>3</th>\n",
       "      <td>/Organization/0-6-Com</td>\n",
       "      <td>0-6.com</td>\n",
       "      <td>http://www.0-6.com</td>\n",
       "      <td>Curated Web</td>\n",
       "      <td>operating</td>\n",
       "      <td>CHN</td>\n",
       "      <td>22</td>\n",
       "      <td>Beijing</td>\n",
       "      <td>Beijing</td>\n",
       "      <td>01-01-2007</td>\n",
       "    </tr>\n",
       "    <tr>\n",
       "      <th>4</th>\n",
       "      <td>/Organization/004-Technologies</td>\n",
       "      <td>004 Technologies</td>\n",
       "      <td>http://004gmbh.de/en/004-interact</td>\n",
       "      <td>Software</td>\n",
       "      <td>operating</td>\n",
       "      <td>USA</td>\n",
       "      <td>IL</td>\n",
       "      <td>Springfield, Illinois</td>\n",
       "      <td>Champaign</td>\n",
       "      <td>01-01-2010</td>\n",
       "    </tr>\n",
       "  </tbody>\n",
       "</table>\n",
       "</div>"
      ],
      "text/plain": [
       "                             permalink                    name  \\\n",
       "0                  /Organization/-Fame                   #fame   \n",
       "1               /Organization/-Qounter                :Qounter   \n",
       "2  /Organization/-The-One-Of-Them-Inc-  (THE) ONE of THEM,Inc.   \n",
       "3                /Organization/0-6-Com                 0-6.com   \n",
       "4       /Organization/004-Technologies        004 Technologies   \n",
       "\n",
       "                        homepage_url  \\\n",
       "0                 http://livfame.com   \n",
       "1             http://www.qounter.com   \n",
       "2                http://oneofthem.jp   \n",
       "3                 http://www.0-6.com   \n",
       "4  http://004gmbh.de/en/004-interact   \n",
       "\n",
       "                                       category_list     status country_code  \\\n",
       "0                                              Media  operating          IND   \n",
       "1  Application Platforms|Real Time|Social Network...  operating          USA   \n",
       "2                                  Apps|Games|Mobile  operating          NaN   \n",
       "3                                        Curated Web  operating          CHN   \n",
       "4                                           Software  operating          USA   \n",
       "\n",
       "  state_code                 region           city  founded_at  \n",
       "0         16                 Mumbai         Mumbai         NaN  \n",
       "1         DE             DE - Other  Delaware City  04-09-2014  \n",
       "2        NaN                    NaN            NaN         NaN  \n",
       "3         22                Beijing        Beijing  01-01-2007  \n",
       "4         IL  Springfield, Illinois      Champaign  01-01-2010  "
      ]
     },
     "execution_count": 3,
     "metadata": {},
     "output_type": "execute_result"
    }
   ],
   "source": [
    "companies.head()"
   ]
  },
  {
   "cell_type": "code",
   "execution_count": 4,
   "metadata": {},
   "outputs": [
    {
     "name": "stdout",
     "output_type": "stream",
     "text": [
      "<class 'pandas.core.frame.DataFrame'>\n",
      "RangeIndex: 66368 entries, 0 to 66367\n",
      "Data columns (total 10 columns):\n",
      "permalink        66368 non-null object\n",
      "name             66367 non-null object\n",
      "homepage_url     61310 non-null object\n",
      "category_list    63220 non-null object\n",
      "status           66368 non-null object\n",
      "country_code     59410 non-null object\n",
      "state_code       57821 non-null object\n",
      "region           58338 non-null object\n",
      "city             58340 non-null object\n",
      "founded_at       51147 non-null object\n",
      "dtypes: object(10)\n",
      "memory usage: 5.1+ MB\n"
     ]
    }
   ],
   "source": [
    "companies.info()"
   ]
  },
  {
   "cell_type": "code",
   "execution_count": 5,
   "metadata": {},
   "outputs": [
    {
     "data": {
      "text/html": [
       "<div>\n",
       "<style scoped>\n",
       "    .dataframe tbody tr th:only-of-type {\n",
       "        vertical-align: middle;\n",
       "    }\n",
       "\n",
       "    .dataframe tbody tr th {\n",
       "        vertical-align: top;\n",
       "    }\n",
       "\n",
       "    .dataframe thead th {\n",
       "        text-align: right;\n",
       "    }\n",
       "</style>\n",
       "<table border=\"1\" class=\"dataframe\">\n",
       "  <thead>\n",
       "    <tr style=\"text-align: right;\">\n",
       "      <th></th>\n",
       "      <th>permalink</th>\n",
       "      <th>name</th>\n",
       "      <th>homepage_url</th>\n",
       "      <th>category_list</th>\n",
       "      <th>status</th>\n",
       "      <th>country_code</th>\n",
       "      <th>state_code</th>\n",
       "      <th>region</th>\n",
       "      <th>city</th>\n",
       "      <th>founded_at</th>\n",
       "    </tr>\n",
       "  </thead>\n",
       "  <tbody>\n",
       "    <tr>\n",
       "      <th>count</th>\n",
       "      <td>66368</td>\n",
       "      <td>66367</td>\n",
       "      <td>61310</td>\n",
       "      <td>63220</td>\n",
       "      <td>66368</td>\n",
       "      <td>59410</td>\n",
       "      <td>57821</td>\n",
       "      <td>58338</td>\n",
       "      <td>58340</td>\n",
       "      <td>51147</td>\n",
       "    </tr>\n",
       "    <tr>\n",
       "      <th>unique</th>\n",
       "      <td>66368</td>\n",
       "      <td>66102</td>\n",
       "      <td>61191</td>\n",
       "      <td>27296</td>\n",
       "      <td>4</td>\n",
       "      <td>137</td>\n",
       "      <td>311</td>\n",
       "      <td>1092</td>\n",
       "      <td>5111</td>\n",
       "      <td>3978</td>\n",
       "    </tr>\n",
       "    <tr>\n",
       "      <th>top</th>\n",
       "      <td>/Organization/Results-Scorecard</td>\n",
       "      <td>Spire</td>\n",
       "      <td>http://www.askforoffer.com</td>\n",
       "      <td>Software</td>\n",
       "      <td>operating</td>\n",
       "      <td>USA</td>\n",
       "      <td>CA</td>\n",
       "      <td>SF Bay Area</td>\n",
       "      <td>San Francisco</td>\n",
       "      <td>01-01-2012</td>\n",
       "    </tr>\n",
       "    <tr>\n",
       "      <th>freq</th>\n",
       "      <td>1</td>\n",
       "      <td>4</td>\n",
       "      <td>5</td>\n",
       "      <td>3995</td>\n",
       "      <td>53034</td>\n",
       "      <td>37601</td>\n",
       "      <td>12900</td>\n",
       "      <td>8804</td>\n",
       "      <td>3526</td>\n",
       "      <td>2730</td>\n",
       "    </tr>\n",
       "  </tbody>\n",
       "</table>\n",
       "</div>"
      ],
      "text/plain": [
       "                              permalink   name                homepage_url  \\\n",
       "count                             66368  66367                       61310   \n",
       "unique                            66368  66102                       61191   \n",
       "top     /Organization/Results-Scorecard  Spire  http://www.askforoffer.com   \n",
       "freq                                  1      4                           5   \n",
       "\n",
       "       category_list     status country_code state_code       region  \\\n",
       "count          63220      66368        59410      57821        58338   \n",
       "unique         27296          4          137        311         1092   \n",
       "top         Software  operating          USA         CA  SF Bay Area   \n",
       "freq            3995      53034        37601      12900         8804   \n",
       "\n",
       "                 city  founded_at  \n",
       "count           58340       51147  \n",
       "unique           5111        3978  \n",
       "top     San Francisco  01-01-2012  \n",
       "freq             3526        2730  "
      ]
     },
     "execution_count": 5,
     "metadata": {},
     "output_type": "execute_result"
    }
   ],
   "source": [
    "companies.describe()"
   ]
  },
  {
   "cell_type": "code",
   "execution_count": 6,
   "metadata": {},
   "outputs": [
    {
     "data": {
      "text/plain": [
       "permalink            0\n",
       "name                 1\n",
       "homepage_url      5058\n",
       "category_list     3148\n",
       "status               0\n",
       "country_code      6958\n",
       "state_code        8547\n",
       "region            8030\n",
       "city              8028\n",
       "founded_at       15221\n",
       "dtype: int64"
      ]
     },
     "execution_count": 6,
     "metadata": {},
     "output_type": "execute_result"
    }
   ],
   "source": [
    "# Nan values for every column in Companies dataset\n",
    "companies.isna().sum()"
   ]
  },
  {
   "cell_type": "markdown",
   "metadata": {},
   "source": [
    "__*company_permalink column has upper/lower case entries. Should standardize it to lower case.*__"
   ]
  },
  {
   "cell_type": "code",
   "execution_count": 7,
   "metadata": {
    "scrolled": true
   },
   "outputs": [
    {
     "name": "stdout",
     "output_type": "stream",
     "text": [
      "<class 'pandas.core.frame.DataFrame'>\n",
      "RangeIndex: 114949 entries, 0 to 114948\n",
      "Data columns (total 6 columns):\n",
      "company_permalink          114949 non-null object\n",
      "funding_round_permalink    114949 non-null object\n",
      "funding_round_type         114949 non-null object\n",
      "funding_round_code         31140 non-null object\n",
      "funded_at                  114949 non-null object\n",
      "raised_amount_usd          94959 non-null float64\n",
      "dtypes: float64(1), object(5)\n",
      "memory usage: 5.3+ MB\n"
     ]
    }
   ],
   "source": [
    "rounds2.info()"
   ]
  },
  {
   "cell_type": "code",
   "execution_count": 8,
   "metadata": {},
   "outputs": [
    {
     "data": {
      "text/plain": [
       "company_permalink              0\n",
       "funding_round_permalink        0\n",
       "funding_round_type             0\n",
       "funding_round_code         83809\n",
       "funded_at                      0\n",
       "raised_amount_usd          19990\n",
       "dtype: int64"
      ]
     },
     "execution_count": 8,
     "metadata": {},
     "output_type": "execute_result"
    }
   ],
   "source": [
    "# Nan values for every column in rounds2 dataset\n",
    "rounds2.isna().sum()"
   ]
  },
  {
   "cell_type": "markdown",
   "metadata": {},
   "source": [
    "### Finding uniques and creating a combined MasterFrame"
   ]
  },
  {
   "cell_type": "code",
   "execution_count": 5,
   "metadata": {},
   "outputs": [
    {
     "name": "stdout",
     "output_type": "stream",
     "text": [
      "There are 66368 unique rows in companies table.\n"
     ]
    }
   ],
   "source": [
    "companies.permalink = companies.permalink.str.encode('utf-8').str.decode('ascii', 'ignore') # Removing problematic characters\n",
    "companies.permalink = companies.permalink.apply(lambda x: x.lower())  # To lower\n",
    "\n",
    "print(f\"There are {companies.permalink.nunique()} unique rows in companies table.\")"
   ]
  },
  {
   "cell_type": "code",
   "execution_count": 6,
   "metadata": {},
   "outputs": [
    {
     "name": "stdout",
     "output_type": "stream",
     "text": [
      "There are 66368 unique rows in rounds2 table.\n"
     ]
    }
   ],
   "source": [
    "rounds2.company_permalink = rounds2.company_permalink.str.encode('utf-8').str.decode('ascii', 'ignore') # Removing problematic characters\n",
    "rounds2.company_permalink = rounds2.company_permalink.apply(lambda x: x.lower()) # To lower\n",
    "\n",
    "\n",
    "print(f\"There are {companies.permalink.nunique()} unique rows in rounds2 table.\")"
   ]
  },
  {
   "cell_type": "code",
   "execution_count": 7,
   "metadata": {},
   "outputs": [
    {
     "name": "stdout",
     "output_type": "stream",
     "text": [
      "A: 66368, B: 66368, Intersection: 66365\n",
      "{'/organization/lawp d', '/organization/51wofang- ', '/organization/huizuche-com- '}\n",
      "{'/organization/lawpd', '/organization/51wofang-', '/organization/huizuche-com-'}\n"
     ]
    }
   ],
   "source": [
    "def check_for_equality(a, b):\n",
    "    \"\"\"\n",
    "    Checks if all values between two Series/Dataframes are same.\n",
    "    Returns disimilliar values if they or not.\n",
    "    \"\"\"\n",
    "\n",
    "    seta = set(a.flatten())\n",
    "    setb = set(b.flatten())\n",
    "    print(f\"A: {len(seta)}, B: {len(setb)}, Intersection: {len(seta.intersection(setb))}\")\n",
    "    if len(seta - setb) > 0:\n",
    "        \n",
    "        print(seta - setb)\n",
    "        print(setb - seta)\n",
    "        \n",
    "    else: print(\"They are the same\")\n",
    "        \n",
    "check_for_equality(companies.permalink.unique(), rounds2.company_permalink.unique())"
   ]
  },
  {
   "cell_type": "markdown",
   "metadata": {},
   "source": [
    "__*Few names have unnecesary spaces*__"
   ]
  },
  {
   "cell_type": "code",
   "execution_count": 8,
   "metadata": {},
   "outputs": [
    {
     "name": "stdout",
     "output_type": "stream",
     "text": [
      "A: 66368, B: 66368, Intersection: 66368\n",
      "They are the same\n"
     ]
    }
   ],
   "source": [
    "# Fixing spaces issue\n",
    "companies.permalink = companies.permalink.str.replace(' ', '')\n",
    "rounds2.company_permalink = rounds2.company_permalink.str.replace(' ', '')\n",
    "\n",
    "check_for_equality(companies.permalink.unique(), rounds2.company_permalink.unique())"
   ]
  },
  {
   "cell_type": "code",
   "execution_count": 9,
   "metadata": {},
   "outputs": [],
   "source": [
    "# Setting respective primary keys as index for both dataframes\n",
    "companies.set_index('permalink', inplace=True)\n",
    "rounds2.set_index('company_permalink', inplace=True)"
   ]
  },
  {
   "cell_type": "code",
   "execution_count": 10,
   "metadata": {},
   "outputs": [
    {
     "name": "stdout",
     "output_type": "stream",
     "text": [
      "There are 114949 observations in master_frame.\n"
     ]
    },
    {
     "data": {
      "text/html": [
       "<div>\n",
       "<style scoped>\n",
       "    .dataframe tbody tr th:only-of-type {\n",
       "        vertical-align: middle;\n",
       "    }\n",
       "\n",
       "    .dataframe tbody tr th {\n",
       "        vertical-align: top;\n",
       "    }\n",
       "\n",
       "    .dataframe thead th {\n",
       "        text-align: right;\n",
       "    }\n",
       "</style>\n",
       "<table border=\"1\" class=\"dataframe\">\n",
       "  <thead>\n",
       "    <tr style=\"text-align: right;\">\n",
       "      <th></th>\n",
       "      <th>funding_round_permalink</th>\n",
       "      <th>funding_round_type</th>\n",
       "      <th>funding_round_code</th>\n",
       "      <th>funded_at</th>\n",
       "      <th>raised_amount_usd</th>\n",
       "      <th>name</th>\n",
       "      <th>homepage_url</th>\n",
       "      <th>category_list</th>\n",
       "      <th>status</th>\n",
       "      <th>country_code</th>\n",
       "      <th>state_code</th>\n",
       "      <th>region</th>\n",
       "      <th>city</th>\n",
       "      <th>founded_at</th>\n",
       "    </tr>\n",
       "  </thead>\n",
       "  <tbody>\n",
       "    <tr>\n",
       "      <th>/organization/-fame</th>\n",
       "      <td>/funding-round/9a01d05418af9f794eebff7ace91f638</td>\n",
       "      <td>venture</td>\n",
       "      <td>B</td>\n",
       "      <td>05-01-2015</td>\n",
       "      <td>10000000.0</td>\n",
       "      <td>#fame</td>\n",
       "      <td>http://livfame.com</td>\n",
       "      <td>Media</td>\n",
       "      <td>operating</td>\n",
       "      <td>IND</td>\n",
       "      <td>16</td>\n",
       "      <td>Mumbai</td>\n",
       "      <td>Mumbai</td>\n",
       "      <td>NaN</td>\n",
       "    </tr>\n",
       "    <tr>\n",
       "      <th>/organization/-qounter</th>\n",
       "      <td>/funding-round/22dacff496eb7acb2b901dec1dfe5633</td>\n",
       "      <td>venture</td>\n",
       "      <td>A</td>\n",
       "      <td>14-10-2014</td>\n",
       "      <td>NaN</td>\n",
       "      <td>:Qounter</td>\n",
       "      <td>http://www.qounter.com</td>\n",
       "      <td>Application Platforms|Real Time|Social Network...</td>\n",
       "      <td>operating</td>\n",
       "      <td>USA</td>\n",
       "      <td>DE</td>\n",
       "      <td>DE - Other</td>\n",
       "      <td>Delaware City</td>\n",
       "      <td>04-09-2014</td>\n",
       "    </tr>\n",
       "    <tr>\n",
       "      <th>/organization/-qounter</th>\n",
       "      <td>/funding-round/b44fbb94153f6cdef13083530bb48030</td>\n",
       "      <td>seed</td>\n",
       "      <td>NaN</td>\n",
       "      <td>01-03-2014</td>\n",
       "      <td>700000.0</td>\n",
       "      <td>:Qounter</td>\n",
       "      <td>http://www.qounter.com</td>\n",
       "      <td>Application Platforms|Real Time|Social Network...</td>\n",
       "      <td>operating</td>\n",
       "      <td>USA</td>\n",
       "      <td>DE</td>\n",
       "      <td>DE - Other</td>\n",
       "      <td>Delaware City</td>\n",
       "      <td>04-09-2014</td>\n",
       "    </tr>\n",
       "    <tr>\n",
       "      <th>/organization/-the-one-of-them-inc-</th>\n",
       "      <td>/funding-round/650b8f704416801069bb178a1418776b</td>\n",
       "      <td>venture</td>\n",
       "      <td>B</td>\n",
       "      <td>30-01-2014</td>\n",
       "      <td>3406878.0</td>\n",
       "      <td>(THE) ONE of THEM,Inc.</td>\n",
       "      <td>http://oneofthem.jp</td>\n",
       "      <td>Apps|Games|Mobile</td>\n",
       "      <td>operating</td>\n",
       "      <td>NaN</td>\n",
       "      <td>NaN</td>\n",
       "      <td>NaN</td>\n",
       "      <td>NaN</td>\n",
       "      <td>NaN</td>\n",
       "    </tr>\n",
       "    <tr>\n",
       "      <th>/organization/0-6-com</th>\n",
       "      <td>/funding-round/5727accaeaa57461bd22a9bdd945382d</td>\n",
       "      <td>venture</td>\n",
       "      <td>A</td>\n",
       "      <td>19-03-2008</td>\n",
       "      <td>2000000.0</td>\n",
       "      <td>0-6.com</td>\n",
       "      <td>http://www.0-6.com</td>\n",
       "      <td>Curated Web</td>\n",
       "      <td>operating</td>\n",
       "      <td>CHN</td>\n",
       "      <td>22</td>\n",
       "      <td>Beijing</td>\n",
       "      <td>Beijing</td>\n",
       "      <td>01-01-2007</td>\n",
       "    </tr>\n",
       "  </tbody>\n",
       "</table>\n",
       "</div>"
      ],
      "text/plain": [
       "                                                             funding_round_permalink  \\\n",
       "/organization/-fame                  /funding-round/9a01d05418af9f794eebff7ace91f638   \n",
       "/organization/-qounter               /funding-round/22dacff496eb7acb2b901dec1dfe5633   \n",
       "/organization/-qounter               /funding-round/b44fbb94153f6cdef13083530bb48030   \n",
       "/organization/-the-one-of-them-inc-  /funding-round/650b8f704416801069bb178a1418776b   \n",
       "/organization/0-6-com                /funding-round/5727accaeaa57461bd22a9bdd945382d   \n",
       "\n",
       "                                    funding_round_type funding_round_code  \\\n",
       "/organization/-fame                            venture                  B   \n",
       "/organization/-qounter                         venture                  A   \n",
       "/organization/-qounter                            seed                NaN   \n",
       "/organization/-the-one-of-them-inc-            venture                  B   \n",
       "/organization/0-6-com                          venture                  A   \n",
       "\n",
       "                                      funded_at  raised_amount_usd  \\\n",
       "/organization/-fame                  05-01-2015         10000000.0   \n",
       "/organization/-qounter               14-10-2014                NaN   \n",
       "/organization/-qounter               01-03-2014           700000.0   \n",
       "/organization/-the-one-of-them-inc-  30-01-2014          3406878.0   \n",
       "/organization/0-6-com                19-03-2008          2000000.0   \n",
       "\n",
       "                                                       name  \\\n",
       "/organization/-fame                                   #fame   \n",
       "/organization/-qounter                             :Qounter   \n",
       "/organization/-qounter                             :Qounter   \n",
       "/organization/-the-one-of-them-inc-  (THE) ONE of THEM,Inc.   \n",
       "/organization/0-6-com                               0-6.com   \n",
       "\n",
       "                                               homepage_url  \\\n",
       "/organization/-fame                      http://livfame.com   \n",
       "/organization/-qounter               http://www.qounter.com   \n",
       "/organization/-qounter               http://www.qounter.com   \n",
       "/organization/-the-one-of-them-inc-     http://oneofthem.jp   \n",
       "/organization/0-6-com                    http://www.0-6.com   \n",
       "\n",
       "                                                                         category_list  \\\n",
       "/organization/-fame                                                              Media   \n",
       "/organization/-qounter               Application Platforms|Real Time|Social Network...   \n",
       "/organization/-qounter               Application Platforms|Real Time|Social Network...   \n",
       "/organization/-the-one-of-them-inc-                                  Apps|Games|Mobile   \n",
       "/organization/0-6-com                                                      Curated Web   \n",
       "\n",
       "                                        status country_code state_code  \\\n",
       "/organization/-fame                  operating          IND         16   \n",
       "/organization/-qounter               operating          USA         DE   \n",
       "/organization/-qounter               operating          USA         DE   \n",
       "/organization/-the-one-of-them-inc-  operating          NaN        NaN   \n",
       "/organization/0-6-com                operating          CHN         22   \n",
       "\n",
       "                                         region           city  founded_at  \n",
       "/organization/-fame                      Mumbai         Mumbai         NaN  \n",
       "/organization/-qounter               DE - Other  Delaware City  04-09-2014  \n",
       "/organization/-qounter               DE - Other  Delaware City  04-09-2014  \n",
       "/organization/-the-one-of-them-inc-         NaN            NaN         NaN  \n",
       "/organization/0-6-com                   Beijing        Beijing  01-01-2007  "
      ]
     },
     "execution_count": 10,
     "metadata": {},
     "output_type": "execute_result"
    }
   ],
   "source": [
    "# Creating Primary Key\n",
    "master_frame = rounds2.join(companies)\n",
    "print(f\"There are {len(master_frame)} observations in master_frame.\")\n",
    "\n",
    "master_frame.head()"
   ]
  },
  {
   "cell_type": "markdown",
   "metadata": {},
   "source": [
    "### Finding average funding Amounts by Type"
   ]
  },
  {
   "cell_type": "code",
   "execution_count": 11,
   "metadata": {},
   "outputs": [
    {
     "data": {
      "text/plain": [
       "venture                  55494\n",
       "seed                     30524\n",
       "debt_financing            6895\n",
       "angel                     6094\n",
       "undisclosed               4897\n",
       "equity_crowdfunding       3257\n",
       "private_equity            2285\n",
       "grant                     2200\n",
       "convertible_note          1817\n",
       "post_ipo_equity            638\n",
       "product_crowdfunding       410\n",
       "non_equity_assistance      191\n",
       "post_ipo_debt              152\n",
       "secondary_market            95\n",
       "Name: funding_round_type, dtype: int64"
      ]
     },
     "execution_count": 11,
     "metadata": {},
     "output_type": "execute_result"
    }
   ],
   "source": [
    "# Frequency of every type of funding\n",
    "master_frame.funding_round_type.value_counts()"
   ]
  },
  {
   "cell_type": "code",
   "execution_count": 12,
   "metadata": {},
   "outputs": [],
   "source": [
    "# We can drop all rows which are not of type venture, seed, angel, private_equity\n",
    "master_frame = master_frame[master_frame.funding_round_type.isin(['venture', 'seed', 'angel', 'private_equity'])]"
   ]
  },
  {
   "cell_type": "code",
   "execution_count": 46,
   "metadata": {},
   "outputs": [
    {
     "data": {
      "image/png": "[encoded data removed]",
      "text/plain": [
       "<Figure size 432x288 with 1 Axes>"
      ]
     },
     "metadata": {},
     "output_type": "display_data"
    },
    {
     "name": "stdout",
     "output_type": "stream",
     "text": [
      "venture           55494\n",
      "seed              30524\n",
      "angel              6094\n",
      "private_equity     2285\n",
      "Name: funding_round_type, dtype: int64\n"
     ]
    }
   ],
   "source": [
    "round_types = master_frame.funding_round_type.value_counts()\n",
    "\n",
    "# Create a pieplot\n",
    "plt.pie(round_types.values, labels=round_types.index, radius=1.5, wedgeprops = { 'linewidth' : 6, 'edgecolor' : 'white' })\n",
    "\n",
    "# add a circle at the center\n",
    "my_circle=plt.Circle( (0,0), 1, color='white')\n",
    "p=plt.gcf()\n",
    "p.gca().add_artist(my_circle)\n",
    "\n",
    "plt.show()\n",
    "print(round_types)\n"
   ]
  },
  {
   "cell_type": "code",
   "execution_count": 49,
   "metadata": {},
   "outputs": [
    {
     "name": "stdout",
     "output_type": "stream",
     "text": [
      "Average funding amount raised: 11748949.13\n"
     ]
    }
   ],
   "source": [
    "# Average funding amount for venture type\n",
    "venture_mean = master_frame[master_frame['funding_round_type']=='venture'].raised_amount_usd.mean()\n",
    "print(f\"Average funding amount raised: {round(venture_mean, 2)}\")"
   ]
  },
  {
   "cell_type": "code",
   "execution_count": 50,
   "metadata": {},
   "outputs": [
    {
     "name": "stdout",
     "output_type": "stream",
     "text": [
      "Average funding amount raised: 958694.47\n"
     ]
    }
   ],
   "source": [
    "# Average funding amount for angel type\n",
    "angel_mean = master_frame[master_frame['funding_round_type']=='angel'].raised_amount_usd.mean()\n",
    "print(f\"Average funding amount raised: {round(angel_mean, 2)}\")"
   ]
  },
  {
   "cell_type": "code",
   "execution_count": 51,
   "metadata": {},
   "outputs": [
    {
     "name": "stdout",
     "output_type": "stream",
     "text": [
      "Average funding amount raised: 719818.0\n"
     ]
    }
   ],
   "source": [
    "# Average funding amount for seed type\n",
    "seed_mean = master_frame[master_frame['funding_round_type']=='seed'].raised_amount_usd.mean()\n",
    "print(f\"Average funding amount raised: {round(seed_mean, 2)}\")"
   ]
  },
  {
   "cell_type": "code",
   "execution_count": 52,
   "metadata": {},
   "outputs": [
    {
     "name": "stdout",
     "output_type": "stream",
     "text": [
      "Average funding amount raised: 73308593.03\n"
     ]
    }
   ],
   "source": [
    "# Average funding amount for private equity type\n",
    "equity_mean = master_frame[master_frame['funding_round_type']=='private_equity'].raised_amount_usd.mean()\n",
    "print(f\"Average funding amount raised: {round(equity_mean, 2)}\")"
   ]
  },
  {
   "cell_type": "code",
   "execution_count": 71,
   "metadata": {},
   "outputs": [
    {
     "data": {
      "image/png": "[encoded data removed]",
      "text/plain": [
       "<Figure size 1440x1152 with 2 Axes>"
      ]
     },
     "metadata": {},
     "output_type": "display_data"
    }
   ],
   "source": [
    "plt.figure(figsize=(20, 16))\n",
    "ax1 = plt.subplot(4, 4, 1)\n",
    "ax2 = plt.subplot(4, 4, 3)\n",
    "sns.barplot(x=round_types.index, y=[venture_mean, seed_mean, angel_mean, equity_mean], ax=ax1)\n",
    "sns.barplot(x=round_types.index[1:3], y=[seed_mean, angel_mean], ax=ax2)\n",
    "plt.show()"
   ]
  },
  {
   "cell_type": "code",
   "execution_count": 22,
   "metadata": {},
   "outputs": [
    {
     "name": "stdout",
     "output_type": "stream",
     "text": [
      "Ideal investment type for Spark Funds is: venture\n"
     ]
    }
   ],
   "source": [
    "# Finding ideal investment type\n",
    "inv_dict = {'venture': venture_mean, 'angel': angel_mean, 'seed': seed_mean, 'equity': equity_mean}\n",
    "for inv_type in inv_dict:\n",
    "    if inv_dict[inv_type] > 5000000 and inv_dict[inv_type] < 15000000:\n",
    "        print(f\"Ideal investment type for Spark Funds is: {inv_type}\")"
   ]
  },
  {
   "cell_type": "markdown",
   "metadata": {},
   "source": [
    "### Top English speaking countries to invest in  (with highest funding for chosen type)"
   ]
  },
  {
   "cell_type": "code",
   "execution_count": 83,
   "metadata": {},
   "outputs": [
    {
     "data": {
      "image/png": "[encoded data removed]",
      "text/plain": [
       "<Figure size 864x576 with 1 Axes>"
      ]
     },
     "metadata": {},
     "output_type": "display_data"
    },
    {
     "name": "stdout",
     "output_type": "stream",
     "text": [
      "              raised_amount_usd\n",
      "country_code                   \n",
      "USA                4.225108e+11\n",
      "CHN                3.983542e+10\n",
      "GBR                2.024563e+10\n",
      "IND                1.439186e+10\n",
      "CAN                9.583332e+09\n",
      "FRA                7.259537e+09\n",
      "ISR                6.907515e+09\n",
      "DEU                6.346960e+09\n",
      "JPN                3.363677e+09 \n",
      "\n",
      "Top 3 english speaking countries in order are: USA, GBR, IND\n"
     ]
    }
   ],
   "source": [
    "# top 9 countries with the highest venture type funding   \n",
    "top9 = master_frame[master_frame['funding_round_type']=='venture'].groupby('country_code').sum().sort_values('raised_amount_usd', ascending=False).head(9)\n",
    "plt.figure(figsize=(12, 8))\n",
    "sns.barplot(x=top9.index, y=top9.values.ravel())\n",
    "plt.show()\n",
    "\n",
    "print(top9, '\\n')\n",
    "print(\"Top 3 english speaking countries in order are: USA, GBR, IND\")"
   ]
  },
  {
   "cell_type": "code",
   "execution_count": 85,
   "metadata": {},
   "outputs": [],
   "source": [
    "# Generating a Primary Sector Column\n",
    "master_frame['primary_sector'] = 0\n",
    "master_frame['primary_sector'] = master_frame['category_list'].str.split('|', expand=True)"
   ]
  },
  {
   "cell_type": "code",
   "execution_count": 86,
   "metadata": {},
   "outputs": [],
   "source": [
    "# correcting improperly decoded words from mapping.csv\n",
    "sect_map.reset_index(inplace=True)\n",
    "sect_map['category_list'] = sect_map['category_list'].str.replace('0', 'na')"
   ]
  },
  {
   "cell_type": "code",
   "execution_count": 87,
   "metadata": {},
   "outputs": [],
   "source": [
    "# set category_list as index column for mapping df\n",
    "sect_map.set_index('category_list', inplace=True)\n",
    "sect_map.drop('index', axis=1, inplace=True)\n",
    "\n",
    "# Generate dictionary of [primary_sec: main_sec] pairs\n",
    "sector_dict = {idx: next(k for k in sect_map if row[k]==1)\n",
    "     for idx, row in sect_map.iterrows()}"
   ]
  },

  {
   "cell_type": "code",
   "execution_count": 89,
   "metadata": {},
   "outputs": [],
   "source": [
    "# map the main sectors using sector_dictionary\n",
    "master_frame['main_sector'] = master_frame['primary_sector'].map(sector_dict)"
   ]
  },
  {
   "cell_type": "code",
   "execution_count": 93,
   "metadata": {},
   "outputs": [
    {
     "data": {
      "image/png": "[encoded data removed]",
      "text/plain": [
       "<Figure size 576x432 with 1 Axes>"
      ]
     },
     "metadata": {},
     "output_type": "display_data"
    },
    {
     "name": "stdout",
     "output_type": "stream",
     "text": [
      "Social, Finance, Analytics, Advertising    22485\n",
      "Others                                     21201\n",
      "News, Search and Messaging                 14156\n",
      "Cleantech / Semiconductors                 12712\n",
      "Entertainment                               6991\n",
      "Health                                      6487\n",
      "Manufacturing                               5683\n",
      "Automotive & Sports                         1883\n",
      "Name: main_sector, dtype: int64\n"
     ]
    }
   ],
   "source": [
    "# Drop all rows which couldn't get mapped (and we drop blanks as there are only 8 sectors)\n",
    "master_frame.dropna(subset=['main_sector'], inplace=True)\n",
    "master_frame = master_frame[master_frame['main_sector'] != 'Blanks']\n",
    "sectors = master_frame.main_sector.value_counts()\n",
    "\n",
    "plt.figure(figsize=(8, 6))\n",
    "sns.barplot(x=sectors.values, y=sectors.index)\n",
    "plt.show()\n",
    "\n",
    "print(sectors)"
   ]
  },
  {
   "cell_type": "code",
   "execution_count": 30,
   "metadata": {},
   "outputs": [
    {
     "data": {
      "text/html": [
       "<div>\n",
       "<style scoped>\n",
       "    .dataframe tbody tr th:only-of-type {\n",
       "        vertical-align: middle;\n",
       "    }\n",
       "\n",
       "    .dataframe tbody tr th {\n",
       "        vertical-align: top;\n",
       "    }\n",
       "\n",
       "    .dataframe thead th {\n",
       "        text-align: right;\n",
       "    }\n",
       "</style>\n",
       "<table border=\"1\" class=\"dataframe\">\n",
       "  <thead>\n",
       "    <tr style=\"text-align: right;\">\n",
       "      <th></th>\n",
       "      <th>name</th>\n",
       "      <th>primary_sector</th>\n",
       "      <th>main_sector</th>\n",
       "    </tr>\n",
       "  </thead>\n",
       "  <tbody>\n",
       "    <tr>\n",
       "      <th>/organization/-fame</th>\n",
       "      <td>#fame</td>\n",
       "      <td>Media</td>\n",
       "      <td>Entertainment</td>\n",
       "    </tr>\n",
       "    <tr>\n",
       "      <th>/organization/-qounter</th>\n",
       "      <td>:Qounter</td>\n",
       "      <td>Application Platforms</td>\n",
       "      <td>News, Search and Messaging</td>\n",
       "    </tr>\n",
       "    <tr>\n",
       "      <th>/organization/-qounter</th>\n",
       "      <td>:Qounter</td>\n",
       "      <td>Application Platforms</td>\n",
       "      <td>News, Search and Messaging</td>\n",
       "    </tr>\n",
       "    <tr>\n",
       "      <th>/organization/-the-one-of-them-inc-</th>\n",
       "      <td>(THE) ONE of THEM,Inc.</td>\n",
       "      <td>Apps</td>\n",
       "      <td>News, Search and Messaging</td>\n",
       "    </tr>\n",
       "    <tr>\n",
       "      <th>/organization/0-6-com</th>\n",
       "      <td>0-6.com</td>\n",
       "      <td>Curated Web</td>\n",
       "      <td>News, Search and Messaging</td>\n",
       "    </tr>\n",
       "    <tr>\n",
       "      <th>/organization/004-technologies</th>\n",
       "      <td>004 Technologies</td>\n",
       "      <td>Software</td>\n",
       "      <td>Others</td>\n",
       "    </tr>\n",
       "    <tr>\n",
       "      <th>/organization/0ndine-biomedical-inc</th>\n",
       "      <td>Ondine Biomedical Inc.</td>\n",
       "      <td>Biotechnology</td>\n",
       "      <td>Cleantech / Semiconductors</td>\n",
       "    </tr>\n",
       "    <tr>\n",
       "      <th>/organization/0ndine-biomedical-inc</th>\n",
       "      <td>Ondine Biomedical Inc.</td>\n",
       "      <td>Biotechnology</td>\n",
       "      <td>Cleantech / Semiconductors</td>\n",
       "    </tr>\n",
       "    <tr>\n",
       "      <th>/organization/0xdata</th>\n",
       "      <td>H2O.ai</td>\n",
       "      <td>Analytics</td>\n",
       "      <td>Social, Finance, Analytics, Advertising</td>\n",
       "    </tr>\n",
       "    <tr>\n",
       "      <th>/organization/0xdata</th>\n",
       "      <td>H2O.ai</td>\n",
       "      <td>Analytics</td>\n",
       "      <td>Social, Finance, Analytics, Advertising</td>\n",
       "    </tr>\n",
       "  </tbody>\n",
       "</table>\n",
       "</div>"
      ],
      "text/plain": [
       "                                                       name  \\\n",
       "/organization/-fame                                   #fame   \n",
       "/organization/-qounter                             :Qounter   \n",
       "/organization/-qounter                             :Qounter   \n",
       "/organization/-the-one-of-them-inc-  (THE) ONE of THEM,Inc.   \n",
       "/organization/0-6-com                               0-6.com   \n",
       "/organization/004-technologies             004 Technologies   \n",
       "/organization/0ndine-biomedical-inc  Ondine Biomedical Inc.   \n",
       "/organization/0ndine-biomedical-inc  Ondine Biomedical Inc.   \n",
       "/organization/0xdata                                 H2O.ai   \n",
       "/organization/0xdata                                 H2O.ai   \n",
       "\n",
       "                                            primary_sector  \\\n",
       "/organization/-fame                                  Media   \n",
       "/organization/-qounter               Application Platforms   \n",
       "/organization/-qounter               Application Platforms   \n",
       "/organization/-the-one-of-them-inc-                   Apps   \n",
       "/organization/0-6-com                          Curated Web   \n",
       "/organization/004-technologies                    Software   \n",
       "/organization/0ndine-biomedical-inc          Biotechnology   \n",
       "/organization/0ndine-biomedical-inc          Biotechnology   \n",
       "/organization/0xdata                             Analytics   \n",
       "/organization/0xdata                             Analytics   \n",
       "\n",
       "                                                                 main_sector  \n",
       "/organization/-fame                                            Entertainment  \n",
       "/organization/-qounter                            News, Search and Messaging  \n",
       "/organization/-qounter                            News, Search and Messaging  \n",
       "/organization/-the-one-of-them-inc-               News, Search and Messaging  \n",
       "/organization/0-6-com                             News, Search and Messaging  \n",
       "/organization/004-technologies                                        Others  \n",
       "/organization/0ndine-biomedical-inc               Cleantech / Semiconductors  \n",
       "/organization/0ndine-biomedical-inc               Cleantech / Semiconductors  \n",
       "/organization/0xdata                 Social, Finance, Analytics, Advertising  \n",
       "/organization/0xdata                 Social, Finance, Analytics, Advertising  "
      ]
     },
     "execution_count": 30,
     "metadata": {},
     "output_type": "execute_result"
    }
   ],
   "source": [
    "master_frame[['name','primary_sector', 'main_sector']].head(10)"
   ]
  },
  {
   "cell_type": "markdown",
   "metadata": {},
   "source": [
    "__*We will choose to ignore any existing Nan values instead of dropping them altogether*__ (As it changes certain properties such as entry counts)"
   ]
  },
  {
   "cell_type": "code",
   "execution_count": 97,
   "metadata": {},
   "outputs": [
    {
     "data": {
      "image/png": "[encoded data removed]",
      "text/plain": [
       "<Figure size 1440x1152 with 2 Axes>"
      ]
     },
     "metadata": {},
     "output_type": "display_data"
    },
    {
     "name": "stdout",
     "output_type": "stream",
     "text": [
      "                    raised_amount_usd\n",
      "funding_round_type                   \n",
      "angel                    4.592013e+09\n",
      "private_equity           1.396905e+11\n",
      "seed                     1.672817e+10\n",
      "venture                  5.808654e+11\n"
     ]
    }
   ],
   "source": [
    "# Aggregate of amount raised per round type\n",
    "amount_per_type = master_frame.groupby('funding_round_type').agg({'raised_amount_usd': 'sum'})\n",
    "\n",
    "plt.figure(figsize=(20, 16))\n",
    "ax1 = plt.subplot(4, 4, 1)\n",
    "ax2 = plt.subplot(4, 4, 3)\n",
    "\n",
    "sns.barplot(x=amount_per_type.index, y=amount_per_type.values.ravel(), ax=ax1)\n",
    "sns.barplot(x=amount_per_type.index[:3], y=amount_per_type.values.ravel()[:3], ax=ax2)\n",
    "plt.show()\n",
    "\n",
    "print(amount_per_type)"
   ]
  },
  {
   "cell_type": "markdown",
   "metadata": {},
   "source": [
    "### Country-Wise Sector Analysis "
   ]
  },
  {
   "cell_type": "markdown",
   "metadata": {},
   "source": [
    "Creating the three country-wise data frame filtered by venture type funding"
   ]
  },
  {
   "cell_type": "code",
   "execution_count": 32,
   "metadata": {},
   "outputs": [],
   "source": [
    "condition_1 = (master_frame['funding_round_type']=='venture')\n",
    "condition_2 = ( master_frame['raised_amount_usd'].isin(np.arange(5000000, 15000000 + 1)) )\n",
    "condition = (condition_1 & condition_2)\n",
    "\n",
    "c1 = master_frame[condition & (master_frame['country_code']=='USA')]\n",
    "c2 = master_frame[condition & (master_frame['country_code']=='GBR')]\n",
    "c3 = master_frame[condition & (master_frame['country_code']=='IND')]"
   ]
  },
  {
   "cell_type": "code",
   "execution_count": 33,
   "metadata": {},
   "outputs": [
    {
     "data": {
      "text/plain": [
       "Social, Finance, Analytics, Advertising    22485\n",
       "Others                                     21201\n",
       "News, Search and Messaging                 14156\n",
       "Cleantech / Semiconductors                 12712\n",
       "Entertainment                               6991\n",
       "Health                                      6487\n",
       "Manufacturing                               5683\n",
       "Automotive & Sports                         1883\n",
       "Name: main_sector, dtype: int64"
      ]
     },
     "execution_count": 33,
     "metadata": {},
     "output_type": "execute_result"
    }
   ],
   "source": [
    "# number of entries overall per sector in master_frame (all countries)\n",
    "dic = master_frame['main_sector'].value_counts()\n",
    "dic"
   ]
  },
  {
   "cell_type": "code",
   "execution_count": 34,
   "metadata": {
    "scrolled": false
   },
   "outputs": [
    {
     "name": "stdout",
     "output_type": "stream",
     "text": [
      "\n",
      "    For USA:\n",
      "          Total number of investments: 12012\n",
      "          Total amount of investments: 107318294664.0\n",
      "          Top sector name: Others\n",
      "          Second sector name: Social, Finance, Analytics, Advertising\n",
      "          Third sector name: Cleantech / Semiconductors\n",
      "          Number of investments in top sector: 2950\n",
      "          Number of investments in second sector: 2714\n",
      "          Number of investments in third sector: 2300\n",
      "          Company that recieved highest investment in top sector was: Virtustream\n",
      "          Company that recieved highest investment second sector was: SST Inc. (Formerly ShotSpotter)          \n",
      "          \n",
      "\n",
      "    For GBR:\n",
      "          Total number of investments: 619\n",
      "          Total amount of investments: 5365228300.0\n",
      "          Top sector name: Others\n",
      "          Second sector name: Social, Finance, Analytics, Advertising\n",
      "          Third sector name: Cleantech / Semiconductors\n",
      "          Number of investments in top sector: 147\n",
      "          Number of investments in second sector: 133\n",
      "          Number of investments in third sector: 128\n",
      "          Company that recieved highest investment in top sector was: Electric Cloud\n",
      "          Company that recieved highest investment second sector was: Celltick Technologies          \n",
      "          \n",
      "\n",
      "    For IND:\n",
      "          Total number of investments: 328\n",
      "          Total amount of investments: 2949543602.0\n",
      "          Top sector name: Others\n",
      "          Second sector name: Social, Finance, Analytics, Advertising\n",
      "          Third sector name: News, Search and Messaging\n",
      "          Number of investments in top sector: 110\n",
      "          Number of investments in second sector: 60\n",
      "          Number of investments in third sector: 52\n",
      "          Company that recieved highest investment in top sector was: FirstCry.com\n",
      "          Company that recieved highest investment second sector was: Manthan Systems          \n",
      "          \n"
     ]
    }
   ],
   "source": [
    "def get_count_and_inv(df):\n",
    "    '''\n",
    "    Function that accepts dataframe and generates: \n",
    "    1) Column for total number (or count) of investments for each main sector.\n",
    "    2) Column for total amount invested in each main sector\n",
    "    3) Values for all questions in table 5.1\n",
    "    '''\n",
    "    \n",
    "    dic = df['main_sector'].value_counts().to_dict()\n",
    "    df['main_sector_count'] = df['main_sector'].map(dic).copy()\n",
    "    \n",
    "    dic = df[['main_sector', 'raised_amount_usd']].groupby(df['main_sector']).sum()['raised_amount_usd'].to_dict()\n",
    "    df['main_sector_investment'] = df['main_sector'].map(dic).copy()\n",
    "    \n",
    "    sect_name = list(df.groupby('main_sector').count().sort_values('funding_round_permalink', ascending=False).head(3).index)\n",
    "    sect_inv = list(df.groupby('main_sector').count().sort_values('funding_round_permalink', ascending=False).head(3)['funding_round_permalink'])\n",
    "    top_sec_comp = list(df[df['main_sector'] == sect_name[0]].groupby('name').sum().sort_values('raised_amount_usd', ascending=False).head(1).reset_index()['name'])[0]\n",
    "    second_sec_comp = list(df[df['main_sector'] == sect_name[1]].groupby('name').sum().sort_values('raised_amount_usd', ascending=False).head(1).reset_index()['name'])[0]\n",
    "    \n",
    "    print(f'''\n",
    "    For {c}:\n",
    "          Total number of investments: {df.funding_round_permalink.count()}\n",
    "          Total amount of investments: {df.raised_amount_usd.sum()}\n",
    "          Top sector name: {sect_name[0]}\n",
    "          Second sector name: {sect_name[1]}\n",
    "          Third sector name: {sect_name[2]}\n",
    "          Number of investments in top sector: {sect_inv[0]}\n",
    "          Number of investments in second sector: {sect_inv[1]}\n",
    "          Number of investments in third sector: {sect_inv[2]}\n",
    "          Company that recieved highest investment in top sector was: {top_sec_comp}\n",
    "          Company that recieved highest investment second sector was: {second_sec_comp}          \n",
    "          ''')\n",
    "          \n",
    "    \n",
    "    \n",
    "for df, c in zip((c1, c2, c3), ('USA', 'GBR', 'IND')):\n",
    "    get_count_and_inv(df)"
   ]
  },
  {
   "cell_type": "markdown",
   "metadata": {},
   "source": [
    "## USA"
   ]
  },
  {
   "cell_type": "code",
   "execution_count": 35,
   "metadata": {},
   "outputs": [
    {
     "data": {
      "text/html": [
       "<div>\n",
       "<style scoped>\n",
       "    .dataframe tbody tr th:only-of-type {\n",
       "        vertical-align: middle;\n",
       "    }\n",
       "\n",
       "    .dataframe tbody tr th {\n",
       "        vertical-align: top;\n",
       "    }\n",
       "\n",
       "    .dataframe thead th {\n",
       "        text-align: right;\n",
       "    }\n",
       "</style>\n",
       "<table border=\"1\" class=\"dataframe\">\n",
       "  <thead>\n",
       "    <tr style=\"text-align: right;\">\n",
       "      <th></th>\n",
       "      <th>funding_round_permalink</th>\n",
       "      <th>funding_round_type</th>\n",
       "      <th>funding_round_code</th>\n",
       "      <th>funded_at</th>\n",
       "      <th>raised_amount_usd</th>\n",
       "      <th>name</th>\n",
       "      <th>homepage_url</th>\n",
       "      <th>category_list</th>\n",
       "      <th>status</th>\n",
       "      <th>country_code</th>\n",
       "      <th>state_code</th>\n",
       "      <th>region</th>\n",
       "      <th>city</th>\n",
       "      <th>founded_at</th>\n",
       "      <th>primary_sector</th>\n",
       "      <th>main_sector</th>\n",
       "      <th>main_sector_count</th>\n",
       "      <th>main_sector_investment</th>\n",
       "    </tr>\n",
       "  </thead>\n",
       "  <tbody>\n",
       "    <tr>\n",
       "      <th>/organization/0xdata</th>\n",
       "      <td>/funding-round/e1cfcbe1bdf4c70277c5f29a3482f24e</td>\n",
       "      <td>venture</td>\n",
       "      <td>A</td>\n",
       "      <td>19-07-2014</td>\n",
       "      <td>8900000.0</td>\n",
       "      <td>H2O.ai</td>\n",
       "      <td>http://h2o.ai/</td>\n",
       "      <td>Analytics</td>\n",
       "      <td>operating</td>\n",
       "      <td>USA</td>\n",
       "      <td>CA</td>\n",
       "      <td>SF Bay Area</td>\n",
       "      <td>Mountain View</td>\n",
       "      <td>01-01-2011</td>\n",
       "      <td>Analytics</td>\n",
       "      <td>Social, Finance, Analytics, Advertising</td>\n",
       "      <td>2714</td>\n",
       "      <td>2.380738e+10</td>\n",
       "    </tr>\n",
       "    <tr>\n",
       "      <th>/organization/1-mainstream</th>\n",
       "      <td>/funding-round/b952cbaf401f310927430c97b68162ea</td>\n",
       "      <td>venture</td>\n",
       "      <td>NaN</td>\n",
       "      <td>17-03-2015</td>\n",
       "      <td>5000000.0</td>\n",
       "      <td>1 Mainstream</td>\n",
       "      <td>http://www.1mainstream.com</td>\n",
       "      <td>Apps|Cable|Distribution|Software</td>\n",
       "      <td>acquired</td>\n",
       "      <td>USA</td>\n",
       "      <td>CA</td>\n",
       "      <td>SF Bay Area</td>\n",
       "      <td>Cupertino</td>\n",
       "      <td>01-03-2012</td>\n",
       "      <td>Apps</td>\n",
       "      <td>News, Search and Messaging</td>\n",
       "      <td>1582</td>\n",
       "      <td>1.395957e+10</td>\n",
       "    </tr>\n",
       "    <tr>\n",
       "      <th>/organization/128-technology</th>\n",
       "      <td>/funding-round/fb6216a30cb566ede89e0bee0623a634</td>\n",
       "      <td>venture</td>\n",
       "      <td>NaN</td>\n",
       "      <td>16-12-2014</td>\n",
       "      <td>11999347.0</td>\n",
       "      <td>128 Technology</td>\n",
       "      <td>http://www.128technology.com/</td>\n",
       "      <td>Service Providers|Technology</td>\n",
       "      <td>operating</td>\n",
       "      <td>USA</td>\n",
       "      <td>MA</td>\n",
       "      <td>Boston</td>\n",
       "      <td>Burlington</td>\n",
       "      <td>07-07-2014</td>\n",
       "      <td>Service Providers</td>\n",
       "      <td>Others</td>\n",
       "      <td>2950</td>\n",
       "      <td>2.632101e+10</td>\n",
       "    </tr>\n",
       "    <tr>\n",
       "      <th>/organization/1366-technologies</th>\n",
       "      <td>/funding-round/424129ce1235cfab2655ee81305f7c2b</td>\n",
       "      <td>venture</td>\n",
       "      <td>C</td>\n",
       "      <td>15-10-2013</td>\n",
       "      <td>15000000.0</td>\n",
       "      <td>1366 Technologies</td>\n",
       "      <td>http://www.1366tech.com</td>\n",
       "      <td>Manufacturing</td>\n",
       "      <td>operating</td>\n",
       "      <td>USA</td>\n",
       "      <td>MA</td>\n",
       "      <td>Boston</td>\n",
       "      <td>Bedford</td>\n",
       "      <td>01-01-2007</td>\n",
       "      <td>Manufacturing</td>\n",
       "      <td>Manufacturing</td>\n",
       "      <td>799</td>\n",
       "      <td>7.258553e+09</td>\n",
       "    </tr>\n",
       "    <tr>\n",
       "      <th>/organization/1366-technologies</th>\n",
       "      <td>/funding-round/6d3f3797371956ece035b8478c1441b2</td>\n",
       "      <td>venture</td>\n",
       "      <td>C</td>\n",
       "      <td>09-04-2015</td>\n",
       "      <td>5000000.0</td>\n",
       "      <td>1366 Technologies</td>\n",
       "      <td>http://www.1366tech.com</td>\n",
       "      <td>Manufacturing</td>\n",
       "      <td>operating</td>\n",
       "      <td>USA</td>\n",
       "      <td>MA</td>\n",
       "      <td>Boston</td>\n",
       "      <td>Bedford</td>\n",
       "      <td>01-01-2007</td>\n",
       "      <td>Manufacturing</td>\n",
       "      <td>Manufacturing</td>\n",
       "      <td>799</td>\n",
       "      <td>7.258553e+09</td>\n",
       "    </tr>\n",
       "  </tbody>\n",
       "</table>\n",
       "</div>"
      ],
      "text/plain": [
       "                                                         funding_round_permalink  \\\n",
       "/organization/0xdata             /funding-round/e1cfcbe1bdf4c70277c5f29a3482f24e   \n",
       "/organization/1-mainstream       /funding-round/b952cbaf401f310927430c97b68162ea   \n",
       "/organization/128-technology     /funding-round/fb6216a30cb566ede89e0bee0623a634   \n",
       "/organization/1366-technologies  /funding-round/424129ce1235cfab2655ee81305f7c2b   \n",
       "/organization/1366-technologies  /funding-round/6d3f3797371956ece035b8478c1441b2   \n",
       "\n",
       "                                funding_round_type funding_round_code  \\\n",
       "/organization/0xdata                       venture                  A   \n",
       "/organization/1-mainstream                 venture                NaN   \n",
       "/organization/128-technology               venture                NaN   \n",
       "/organization/1366-technologies            venture                  C   \n",
       "/organization/1366-technologies            venture                  C   \n",
       "\n",
       "                                  funded_at  raised_amount_usd  \\\n",
       "/organization/0xdata             19-07-2014          8900000.0   \n",
       "/organization/1-mainstream       17-03-2015          5000000.0   \n",
       "/organization/128-technology     16-12-2014         11999347.0   \n",
       "/organization/1366-technologies  15-10-2013         15000000.0   \n",
       "/organization/1366-technologies  09-04-2015          5000000.0   \n",
       "\n",
       "                                              name  \\\n",
       "/organization/0xdata                        H2O.ai   \n",
       "/organization/1-mainstream            1 Mainstream   \n",
       "/organization/128-technology        128 Technology   \n",
       "/organization/1366-technologies  1366 Technologies   \n",
       "/organization/1366-technologies  1366 Technologies   \n",
       "\n",
       "                                                  homepage_url  \\\n",
       "/organization/0xdata                            http://h2o.ai/   \n",
       "/organization/1-mainstream          http://www.1mainstream.com   \n",
       "/organization/128-technology     http://www.128technology.com/   \n",
       "/organization/1366-technologies        http://www.1366tech.com   \n",
       "/organization/1366-technologies        http://www.1366tech.com   \n",
       "\n",
       "                                                    category_list     status  \\\n",
       "/organization/0xdata                                    Analytics  operating   \n",
       "/organization/1-mainstream       Apps|Cable|Distribution|Software   acquired   \n",
       "/organization/128-technology         Service Providers|Technology  operating   \n",
       "/organization/1366-technologies                     Manufacturing  operating   \n",
       "/organization/1366-technologies                     Manufacturing  operating   \n",
       "\n",
       "                                country_code state_code       region  \\\n",
       "/organization/0xdata                     USA         CA  SF Bay Area   \n",
       "/organization/1-mainstream               USA         CA  SF Bay Area   \n",
       "/organization/128-technology             USA         MA       Boston   \n",
       "/organization/1366-technologies          USA         MA       Boston   \n",
       "/organization/1366-technologies          USA         MA       Boston   \n",
       "\n",
       "                                          city  founded_at     primary_sector  \\\n",
       "/organization/0xdata             Mountain View  01-01-2011          Analytics   \n",
       "/organization/1-mainstream           Cupertino  01-03-2012               Apps   \n",
       "/organization/128-technology        Burlington  07-07-2014  Service Providers   \n",
       "/organization/1366-technologies        Bedford  01-01-2007      Manufacturing   \n",
       "/organization/1366-technologies        Bedford  01-01-2007      Manufacturing   \n",
       "\n",
       "                                                             main_sector  \\\n",
       "/organization/0xdata             Social, Finance, Analytics, Advertising   \n",
       "/organization/1-mainstream                    News, Search and Messaging   \n",
       "/organization/128-technology                                      Others   \n",
       "/organization/1366-technologies                            Manufacturing   \n",
       "/organization/1366-technologies                            Manufacturing   \n",
       "\n",
       "                                 main_sector_count  main_sector_investment  \n",
       "/organization/0xdata                          2714            2.380738e+10  \n",
       "/organization/1-mainstream                    1582            1.395957e+10  \n",
       "/organization/128-technology                  2950            2.632101e+10  \n",
       "/organization/1366-technologies                799            7.258553e+09  \n",
       "/organization/1366-technologies                799            7.258553e+09  "
      ]
     },
     "execution_count": 35,
     "metadata": {},
     "output_type": "execute_result"
    }
   ],
   "source": [
    "c1.head()"
   ]
  },
  {
   "cell_type": "markdown",
   "metadata": {},
   "source": [
    "## GBR"
   ]
  },
  {
   "cell_type": "code",
   "execution_count": 36,
   "metadata": {},
   "outputs": [
    {
     "data": {
      "text/html": [
       "<div>\n",
       "<style scoped>\n",
       "    .dataframe tbody tr th:only-of-type {\n",
       "        vertical-align: middle;\n",
       "    }\n",
       "\n",
       "    .dataframe tbody tr th {\n",
       "        vertical-align: top;\n",
       "    }\n",
       "\n",
       "    .dataframe thead th {\n",
       "        text-align: right;\n",
       "    }\n",
       "</style>\n",
       "<table border=\"1\" class=\"dataframe\">\n",
       "  <thead>\n",
       "    <tr style=\"text-align: right;\">\n",
       "      <th></th>\n",
       "      <th>funding_round_permalink</th>\n",
       "      <th>funding_round_type</th>\n",
       "      <th>funding_round_code</th>\n",
       "      <th>funded_at</th>\n",
       "      <th>raised_amount_usd</th>\n",
       "      <th>name</th>\n",
       "      <th>homepage_url</th>\n",
       "      <th>category_list</th>\n",
       "      <th>status</th>\n",
       "      <th>country_code</th>\n",
       "      <th>state_code</th>\n",
       "      <th>region</th>\n",
       "      <th>city</th>\n",
       "      <th>founded_at</th>\n",
       "      <th>primary_sector</th>\n",
       "      <th>main_sector</th>\n",
       "      <th>main_sector_count</th>\n",
       "      <th>main_sector_investment</th>\n",
       "    </tr>\n",
       "  </thead>\n",
       "  <tbody>\n",
       "    <tr>\n",
       "      <th>/organization/365scores</th>\n",
       "      <td>/funding-round/48212f931f542fdef78810bc87aef086</td>\n",
       "      <td>venture</td>\n",
       "      <td>B</td>\n",
       "      <td>29-09-2014</td>\n",
       "      <td>5500000.0</td>\n",
       "      <td>365Scores</td>\n",
       "      <td>http://biz.365scores.com</td>\n",
       "      <td>Android|Apps|iPhone|Mobile|Sports</td>\n",
       "      <td>operating</td>\n",
       "      <td>GBR</td>\n",
       "      <td>H9</td>\n",
       "      <td>London</td>\n",
       "      <td>London</td>\n",
       "      <td>01-01-2008</td>\n",
       "      <td>Android</td>\n",
       "      <td>Social, Finance, Analytics, Advertising</td>\n",
       "      <td>133</td>\n",
       "      <td>1.089404e+09</td>\n",
       "    </tr>\n",
       "    <tr>\n",
       "      <th>/organization/7digital</th>\n",
       "      <td>/funding-round/b5ad7ed7baddd3974bd51403f17dd88f</td>\n",
       "      <td>venture</td>\n",
       "      <td>A</td>\n",
       "      <td>01-01-2008</td>\n",
       "      <td>8468328.0</td>\n",
       "      <td>7digital</td>\n",
       "      <td>http://about.7digital.com</td>\n",
       "      <td>Content Creators|Content Delivery|Licensing|Mu...</td>\n",
       "      <td>acquired</td>\n",
       "      <td>GBR</td>\n",
       "      <td>H9</td>\n",
       "      <td>London</td>\n",
       "      <td>London</td>\n",
       "      <td>01-01-2004</td>\n",
       "      <td>Content Creators</td>\n",
       "      <td>Entertainment</td>\n",
       "      <td>56</td>\n",
       "      <td>4.827847e+08</td>\n",
       "    </tr>\n",
       "    <tr>\n",
       "      <th>/organization/7digital</th>\n",
       "      <td>/funding-round/eafacfcceb1fbc4fd605f641b603313e</td>\n",
       "      <td>venture</td>\n",
       "      <td>NaN</td>\n",
       "      <td>19-10-2012</td>\n",
       "      <td>10000000.0</td>\n",
       "      <td>7digital</td>\n",
       "      <td>http://about.7digital.com</td>\n",
       "      <td>Content Creators|Content Delivery|Licensing|Mu...</td>\n",
       "      <td>acquired</td>\n",
       "      <td>GBR</td>\n",
       "      <td>H9</td>\n",
       "      <td>London</td>\n",
       "      <td>London</td>\n",
       "      <td>01-01-2004</td>\n",
       "      <td>Content Creators</td>\n",
       "      <td>Entertainment</td>\n",
       "      <td>56</td>\n",
       "      <td>4.827847e+08</td>\n",
       "    </tr>\n",
       "    <tr>\n",
       "      <th>/organization/90min</th>\n",
       "      <td>/funding-round/21a2cbf6f2fb2a1c2a61e04bf930dfe6</td>\n",
       "      <td>venture</td>\n",
       "      <td>NaN</td>\n",
       "      <td>06-10-2015</td>\n",
       "      <td>15000000.0</td>\n",
       "      <td>90min</td>\n",
       "      <td>http://www.90min.com</td>\n",
       "      <td>Media|News|Publishing|Soccer|Sports</td>\n",
       "      <td>operating</td>\n",
       "      <td>GBR</td>\n",
       "      <td>H9</td>\n",
       "      <td>London</td>\n",
       "      <td>London</td>\n",
       "      <td>01-01-2011</td>\n",
       "      <td>Media</td>\n",
       "      <td>Entertainment</td>\n",
       "      <td>56</td>\n",
       "      <td>4.827847e+08</td>\n",
       "    </tr>\n",
       "    <tr>\n",
       "      <th>/organization/90min</th>\n",
       "      <td>/funding-round/bd626ed022f5c66574b1afe234f3c90d</td>\n",
       "      <td>venture</td>\n",
       "      <td>NaN</td>\n",
       "      <td>07-05-2013</td>\n",
       "      <td>5800000.0</td>\n",
       "      <td>90min</td>\n",
       "      <td>http://www.90min.com</td>\n",
       "      <td>Media|News|Publishing|Soccer|Sports</td>\n",
       "      <td>operating</td>\n",
       "      <td>GBR</td>\n",
       "      <td>H9</td>\n",
       "      <td>London</td>\n",
       "      <td>London</td>\n",
       "      <td>01-01-2011</td>\n",
       "      <td>Media</td>\n",
       "      <td>Entertainment</td>\n",
       "      <td>56</td>\n",
       "      <td>4.827847e+08</td>\n",
       "    </tr>\n",
       "  </tbody>\n",
       "</table>\n",
       "</div>"
      ],
      "text/plain": [
       "                                                 funding_round_permalink  \\\n",
       "/organization/365scores  /funding-round/48212f931f542fdef78810bc87aef086   \n",
       "/organization/7digital   /funding-round/b5ad7ed7baddd3974bd51403f17dd88f   \n",
       "/organization/7digital   /funding-round/eafacfcceb1fbc4fd605f641b603313e   \n",
       "/organization/90min      /funding-round/21a2cbf6f2fb2a1c2a61e04bf930dfe6   \n",
       "/organization/90min      /funding-round/bd626ed022f5c66574b1afe234f3c90d   \n",
       "\n",
       "                        funding_round_type funding_round_code   funded_at  \\\n",
       "/organization/365scores            venture                  B  29-09-2014   \n",
       "/organization/7digital             venture                  A  01-01-2008   \n",
       "/organization/7digital             venture                NaN  19-10-2012   \n",
       "/organization/90min                venture                NaN  06-10-2015   \n",
       "/organization/90min                venture                NaN  07-05-2013   \n",
       "\n",
       "                         raised_amount_usd       name  \\\n",
       "/organization/365scores          5500000.0  365Scores   \n",
       "/organization/7digital           8468328.0   7digital   \n",
       "/organization/7digital          10000000.0   7digital   \n",
       "/organization/90min             15000000.0      90min   \n",
       "/organization/90min              5800000.0      90min   \n",
       "\n",
       "                                      homepage_url  \\\n",
       "/organization/365scores   http://biz.365scores.com   \n",
       "/organization/7digital   http://about.7digital.com   \n",
       "/organization/7digital   http://about.7digital.com   \n",
       "/organization/90min           http://www.90min.com   \n",
       "/organization/90min           http://www.90min.com   \n",
       "\n",
       "                                                             category_list  \\\n",
       "/organization/365scores                  Android|Apps|iPhone|Mobile|Sports   \n",
       "/organization/7digital   Content Creators|Content Delivery|Licensing|Mu...   \n",
       "/organization/7digital   Content Creators|Content Delivery|Licensing|Mu...   \n",
       "/organization/90min                    Media|News|Publishing|Soccer|Sports   \n",
       "/organization/90min                    Media|News|Publishing|Soccer|Sports   \n",
       "\n",
       "                            status country_code state_code  region    city  \\\n",
       "/organization/365scores  operating          GBR         H9  London  London   \n",
       "/organization/7digital    acquired          GBR         H9  London  London   \n",
       "/organization/7digital    acquired          GBR         H9  London  London   \n",
       "/organization/90min      operating          GBR         H9  London  London   \n",
       "/organization/90min      operating          GBR         H9  London  London   \n",
       "\n",
       "                         founded_at    primary_sector  \\\n",
       "/organization/365scores  01-01-2008           Android   \n",
       "/organization/7digital   01-01-2004  Content Creators   \n",
       "/organization/7digital   01-01-2004  Content Creators   \n",
       "/organization/90min      01-01-2011             Media   \n",
       "/organization/90min      01-01-2011             Media   \n",
       "\n",
       "                                                     main_sector  \\\n",
       "/organization/365scores  Social, Finance, Analytics, Advertising   \n",
       "/organization/7digital                             Entertainment   \n",
       "/organization/7digital                             Entertainment   \n",
       "/organization/90min                                Entertainment   \n",
       "/organization/90min                                Entertainment   \n",
       "\n",
       "                         main_sector_count  main_sector_investment  \n",
       "/organization/365scores                133            1.089404e+09  \n",
       "/organization/7digital                  56            4.827847e+08  \n",
       "/organization/7digital                  56            4.827847e+08  \n",
       "/organization/90min                     56            4.827847e+08  \n",
       "/organization/90min                     56            4.827847e+08  "
      ]
     },
     "execution_count": 36,
     "metadata": {},
     "output_type": "execute_result"
    }
   ],
   "source": [
    "c2.head()"
   ]
  },
  {
   "cell_type": "markdown",
   "metadata": {},
   "source": [
    "## IND"
   ]
  },
  {
   "cell_type": "code",
   "execution_count": 37,
   "metadata": {},
   "outputs": [
    {
     "data": {
      "text/html": [
       "<div>\n",
       "<style scoped>\n",
       "    .dataframe tbody tr th:only-of-type {\n",
       "        vertical-align: middle;\n",
       "    }\n",
       "\n",
       "    .dataframe tbody tr th {\n",
       "        vertical-align: top;\n",
       "    }\n",
       "\n",
       "    .dataframe thead th {\n",
       "        text-align: right;\n",
       "    }\n",
       "</style>\n",
       "<table border=\"1\" class=\"dataframe\">\n",
       "  <thead>\n",
       "    <tr style=\"text-align: right;\">\n",
       "      <th></th>\n",
       "      <th>funding_round_permalink</th>\n",
       "      <th>funding_round_type</th>\n",
       "      <th>funding_round_code</th>\n",
       "      <th>funded_at</th>\n",
       "      <th>raised_amount_usd</th>\n",
       "      <th>name</th>\n",
       "      <th>homepage_url</th>\n",
       "      <th>category_list</th>\n",
       "      <th>status</th>\n",
       "      <th>country_code</th>\n",
       "      <th>state_code</th>\n",
       "      <th>region</th>\n",
       "      <th>city</th>\n",
       "      <th>founded_at</th>\n",
       "      <th>primary_sector</th>\n",
       "      <th>main_sector</th>\n",
       "      <th>main_sector_count</th>\n",
       "      <th>main_sector_investment</th>\n",
       "    </tr>\n",
       "  </thead>\n",
       "  <tbody>\n",
       "    <tr>\n",
       "      <th>/organization/-fame</th>\n",
       "      <td>/funding-round/9a01d05418af9f794eebff7ace91f638</td>\n",
       "      <td>venture</td>\n",
       "      <td>B</td>\n",
       "      <td>05-01-2015</td>\n",
       "      <td>10000000.0</td>\n",
       "      <td>#fame</td>\n",
       "      <td>http://livfame.com</td>\n",
       "      <td>Media</td>\n",
       "      <td>operating</td>\n",
       "      <td>IND</td>\n",
       "      <td>16</td>\n",
       "      <td>Mumbai</td>\n",
       "      <td>Mumbai</td>\n",
       "      <td>NaN</td>\n",
       "      <td>Media</td>\n",
       "      <td>Entertainment</td>\n",
       "      <td>33</td>\n",
       "      <td>2.808300e+08</td>\n",
       "    </tr>\n",
       "    <tr>\n",
       "      <th>/organization/21diamonds-india</th>\n",
       "      <td>/funding-round/6de7ffef8091ba9f33821f4b861f434a</td>\n",
       "      <td>venture</td>\n",
       "      <td>C</td>\n",
       "      <td>15-11-2012</td>\n",
       "      <td>6369507.0</td>\n",
       "      <td>21Diamonds</td>\n",
       "      <td>http://www.21diamonds.de</td>\n",
       "      <td>E-Commerce</td>\n",
       "      <td>operating</td>\n",
       "      <td>IND</td>\n",
       "      <td>10</td>\n",
       "      <td>New Delhi</td>\n",
       "      <td>Gurgaon</td>\n",
       "      <td>01-06-2012</td>\n",
       "      <td>E-Commerce</td>\n",
       "      <td>Others</td>\n",
       "      <td>110</td>\n",
       "      <td>1.013410e+09</td>\n",
       "    </tr>\n",
       "    <tr>\n",
       "      <th>/organization/a-little-world</th>\n",
       "      <td>/funding-round/18d98f82ed392b1609975b81f3e8b3fb</td>\n",
       "      <td>venture</td>\n",
       "      <td>B</td>\n",
       "      <td>09-09-2008</td>\n",
       "      <td>6410000.0</td>\n",
       "      <td>A LITTLE WORLD</td>\n",
       "      <td>http://alittleworld.com</td>\n",
       "      <td>Finance</td>\n",
       "      <td>operating</td>\n",
       "      <td>IND</td>\n",
       "      <td>16</td>\n",
       "      <td>Mumbai</td>\n",
       "      <td>Mumbai</td>\n",
       "      <td>02-03-2000</td>\n",
       "      <td>Finance</td>\n",
       "      <td>Social, Finance, Analytics, Advertising</td>\n",
       "      <td>60</td>\n",
       "      <td>5.505496e+08</td>\n",
       "    </tr>\n",
       "    <tr>\n",
       "      <th>/organization/adlabs-imagica</th>\n",
       "      <td>/funding-round/508d3c83daaae9fda3ba6f9682c78f6c</td>\n",
       "      <td>venture</td>\n",
       "      <td>NaN</td>\n",
       "      <td>28-10-2014</td>\n",
       "      <td>8180000.0</td>\n",
       "      <td>Adlabs Imagica</td>\n",
       "      <td>http://www.adlabsimagica.com</td>\n",
       "      <td>Entertainment|Tourism</td>\n",
       "      <td>operating</td>\n",
       "      <td>IND</td>\n",
       "      <td>16</td>\n",
       "      <td>IND - Other</td>\n",
       "      <td>Khopoli</td>\n",
       "      <td>NaN</td>\n",
       "      <td>Entertainment</td>\n",
       "      <td>Entertainment</td>\n",
       "      <td>33</td>\n",
       "      <td>2.808300e+08</td>\n",
       "    </tr>\n",
       "    <tr>\n",
       "      <th>/organization/agile</th>\n",
       "      <td>/funding-round/cd3dd1c98ce9d0f632d8752163941674</td>\n",
       "      <td>venture</td>\n",
       "      <td>A</td>\n",
       "      <td>01-05-2011</td>\n",
       "      <td>5740000.0</td>\n",
       "      <td>Agile</td>\n",
       "      <td>http://www.agile-ft.com</td>\n",
       "      <td>Finance|Finance Technology|FinTech|Insurance</td>\n",
       "      <td>operating</td>\n",
       "      <td>IND</td>\n",
       "      <td>16</td>\n",
       "      <td>Mumbai</td>\n",
       "      <td>Mumbai</td>\n",
       "      <td>NaN</td>\n",
       "      <td>Finance</td>\n",
       "      <td>Social, Finance, Analytics, Advertising</td>\n",
       "      <td>60</td>\n",
       "      <td>5.505496e+08</td>\n",
       "    </tr>\n",
       "  </tbody>\n",
       "</table>\n",
       "</div>"
      ],
      "text/plain": [
       "                                                        funding_round_permalink  \\\n",
       "/organization/-fame             /funding-round/9a01d05418af9f794eebff7ace91f638   \n",
       "/organization/21diamonds-india  /funding-round/6de7ffef8091ba9f33821f4b861f434a   \n",
       "/organization/a-little-world    /funding-round/18d98f82ed392b1609975b81f3e8b3fb   \n",
       "/organization/adlabs-imagica    /funding-round/508d3c83daaae9fda3ba6f9682c78f6c   \n",
       "/organization/agile             /funding-round/cd3dd1c98ce9d0f632d8752163941674   \n",
       "\n",
       "                               funding_round_type funding_round_code  \\\n",
       "/organization/-fame                       venture                  B   \n",
       "/organization/21diamonds-india            venture                  C   \n",
       "/organization/a-little-world              venture                  B   \n",
       "/organization/adlabs-imagica              venture                NaN   \n",
       "/organization/agile                       venture                  A   \n",
       "\n",
       "                                 funded_at  raised_amount_usd            name  \\\n",
       "/organization/-fame             05-01-2015         10000000.0           #fame   \n",
       "/organization/21diamonds-india  15-11-2012          6369507.0      21Diamonds   \n",
       "/organization/a-little-world    09-09-2008          6410000.0  A LITTLE WORLD   \n",
       "/organization/adlabs-imagica    28-10-2014          8180000.0  Adlabs Imagica   \n",
       "/organization/agile             01-05-2011          5740000.0           Agile   \n",
       "\n",
       "                                                homepage_url  \\\n",
       "/organization/-fame                       http://livfame.com   \n",
       "/organization/21diamonds-india      http://www.21diamonds.de   \n",
       "/organization/a-little-world         http://alittleworld.com   \n",
       "/organization/adlabs-imagica    http://www.adlabsimagica.com   \n",
       "/organization/agile                  http://www.agile-ft.com   \n",
       "\n",
       "                                                               category_list  \\\n",
       "/organization/-fame                                                    Media   \n",
       "/organization/21diamonds-india                                    E-Commerce   \n",
       "/organization/a-little-world                                         Finance   \n",
       "/organization/adlabs-imagica                           Entertainment|Tourism   \n",
       "/organization/agile             Finance|Finance Technology|FinTech|Insurance   \n",
       "\n",
       "                                   status country_code state_code  \\\n",
       "/organization/-fame             operating          IND         16   \n",
       "/organization/21diamonds-india  operating          IND         10   \n",
       "/organization/a-little-world    operating          IND         16   \n",
       "/organization/adlabs-imagica    operating          IND         16   \n",
       "/organization/agile             operating          IND         16   \n",
       "\n",
       "                                     region     city  founded_at  \\\n",
       "/organization/-fame                  Mumbai   Mumbai         NaN   \n",
       "/organization/21diamonds-india    New Delhi  Gurgaon  01-06-2012   \n",
       "/organization/a-little-world         Mumbai   Mumbai  02-03-2000   \n",
       "/organization/adlabs-imagica    IND - Other  Khopoli         NaN   \n",
       "/organization/agile                  Mumbai   Mumbai         NaN   \n",
       "\n",
       "                               primary_sector  \\\n",
       "/organization/-fame                     Media   \n",
       "/organization/21diamonds-india     E-Commerce   \n",
       "/organization/a-little-world          Finance   \n",
       "/organization/adlabs-imagica    Entertainment   \n",
       "/organization/agile                   Finance   \n",
       "\n",
       "                                                            main_sector  \\\n",
       "/organization/-fame                                       Entertainment   \n",
       "/organization/21diamonds-india                                   Others   \n",
       "/organization/a-little-world    Social, Finance, Analytics, Advertising   \n",
       "/organization/adlabs-imagica                              Entertainment   \n",
       "/organization/agile             Social, Finance, Analytics, Advertising   \n",
       "\n",
       "                                main_sector_count  main_sector_investment  \n",
       "/organization/-fame                            33            2.808300e+08  \n",
       "/organization/21diamonds-india                110            1.013410e+09  \n",
       "/organization/a-little-world                   60            5.505496e+08  \n",
       "/organization/adlabs-imagica                   33            2.808300e+08  \n",
       "/organization/agile                            60            5.505496e+08  "
      ]
     },
     "execution_count": 37,
     "metadata": {},
     "output_type": "execute_result"
    }
   ],
   "source": [
    "c3.head()"
   ]
  },
  {
   "cell_type": "markdown",
   "metadata": {},
   "source": [
    "## Exporting master_frame to csv"
   ]
  },
  {
   "cell_type": "code",
   "execution_count": 38,
   "metadata": {},
   "outputs": [],
   "source": [
    "master_frame.to_csv(\"\\\\master_frame.csv\")"
   ]
  },
  {
   "cell_type": "code",
   "execution_count": null,
   "metadata": {},
   "outputs": [],
   "source": []
  }
 ],
 "metadata": {
  "kernelspec": {
   "display_name": "Python 3",
   "language": "python",
   "name": "python3"
  },
  "language_info": {
   "codemirror_mode": {
    "name": "ipython",
    "version": 3
   },
   "file_extension": ".py",
   "mimetype": "text/x-python",
   "name": "python",
   "nbconvert_exporter": "python",
   "pygments_lexer": "ipython3",
   "version": "3.6.4"
  }
 },
 "nbformat": 4,
 "nbformat_minor": 2
}
